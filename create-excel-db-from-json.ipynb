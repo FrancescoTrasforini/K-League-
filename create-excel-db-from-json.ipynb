{
 "cells": [
  {
   "cell_type": "code",
   "execution_count": 1,
   "metadata": {},
   "outputs": [],
   "source": [
    "import pandas as pd\n",
    "import json"
   ]
  },
  {
   "cell_type": "code",
   "execution_count": 2,
   "metadata": {},
   "outputs": [
    {
     "name": "stdout",
     "output_type": "stream",
     "text": [
      "DataFrame Shape: (23, 75)\n"
     ]
    }
   ],
   "source": [
    "# Load JSON data from file\n",
    "with open('U23_players_dictionary.json', 'r') as file:\n",
    "    data = json.load(file)\n",
    "\n",
    "# Create DataFrame\n",
    "df = pd.json_normalize(data)\n",
    "\n",
    "# Print the shape of the DataFrame\n",
    "print(\"DataFrame Shape:\", df.shape)"
   ]
  },
  {
   "cell_type": "code",
   "execution_count": 3,
   "metadata": {},
   "outputs": [
    {
     "data": {
      "text/plain": [
       "Index(['Player', 'Nationality', 'Birthdate', 'Age', 'Height', 'Preferred Foot',\n",
       "       'Position', 'Current Team', 'Shirt Number', 'Market Value K€',\n",
       "       'Total Played', 'Started', 'Minutes per Game', 'Team of the Week',\n",
       "       'Average Rating', 'Goals', 'Scoring Frequency', 'Goals per Game',\n",
       "       'Shots per Game', 'Shots on Target per Game', 'Big Chances Missed',\n",
       "       'Goal Conversion', 'Penalty Goals', 'Penalty Conversion',\n",
       "       'Free Kick Goals', 'Free Kick Conversion', 'Goals from Inside the Box',\n",
       "       'Attempts from Inside the Box', 'Goals from Outside the Box',\n",
       "       'Attempts from Outside the Box', 'Headed Goals', 'Left Foot Goals',\n",
       "       'Right Foot Goals', 'Penalty Won', 'Assists', 'Touches per Game',\n",
       "       'Big Chances Created', 'Key Passes per Game',\n",
       "       'Accurate Passes per Game', 'Accurate Passes per Game%',\n",
       "       'Acc. in Own Half', 'Acc. in Own Half%', 'Acc. in Opposition Half',\n",
       "       'Acc. in Opposition Half%', 'Acc. Long Balls', 'Acc. Long Balls%',\n",
       "       'Acc. Chipped Passes', 'Acc. Chipped Passes%', 'Acc. Crosses',\n",
       "       'Acc. Crosses%', 'Interceptions per Game', 'Tackles per Game',\n",
       "       'Possession Won per Game', 'Balls Recovered per Game',\n",
       "       'Dribbled Past per Game', 'Clearances per Game',\n",
       "       'Error Leading to Shot', 'Error Leading to Goal', 'Penalties Committed',\n",
       "       'Successful Dribbles per Game', 'Successful Dribbles per Game%',\n",
       "       'Total Duels Won per Game', 'Total Duels Won per Game%',\n",
       "       'Ground Duels Won per Game', 'Ground Duels Won per Game%',\n",
       "       'Aerial Duels Won per Game', 'Aerial Duels Won per Game%',\n",
       "       'Possession Lost per Game', 'Fouls Committed per Game',\n",
       "       'Was Fouled per Game', 'Offsides per Game', 'Yellow Cards',\n",
       "       'Yellow-Red Cards', 'Red Cards', 'Clean Sheets'],\n",
       "      dtype='object')"
      ]
     },
     "execution_count": 3,
     "metadata": {},
     "output_type": "execute_result"
    }
   ],
   "source": [
    "df.columns"
   ]
  },
  {
   "cell_type": "code",
   "execution_count": 4,
   "metadata": {},
   "outputs": [
    {
     "name": "stdout",
     "output_type": "stream",
     "text": [
      "             Player   Nationality   Birthdate  Age  Height Preferred Foot  \\\n",
      "0     Jae Won Hwang  South Korean  16-08-2002   22     180        Unknown   \n",
      "1       Gun-hee Kim  South Korean  16-09-2002   22     192          Right   \n",
      "2    Gabriel Tigrao     Brazilian  10-12-2001   22     182           Both   \n",
      "3      Choi Woo-jin  South Korean  18-07-2004   20     175        Unknown   \n",
      "4    Yang Min-hyeok  South Korean  16-04-2006   18     170          Right   \n",
      "5     Byeon Jun-soo  South Korean  30-11-2001   22     189        Unknown   \n",
      "6     Yun-sang Hong  South Korean  19-03-2002   22     177        Unknown   \n",
      "7       Kang Yun-Gu  South Korean  08-04-2002   22     177           Left   \n",
      "8       Choi Gi-Yun  South Korean  09-04-2002   22     168          Right   \n",
      "9    Young-woo Jang  South Korean  21-08-2002   22     178          Right   \n",
      "10     Lee Tae-seok  South Korean  28-07-2002   22     174           Left   \n",
      "11   Park Jin-Young  South Korean  13-05-2002   22     186            NaN   \n",
      "12    Kang Sang-Yun  South Korean  31-03-2004   20     168            NaN   \n",
      "13  Jeon Byung-kwan  South Korean  10-11-2002   21     178            NaN   \n",
      "14    Park Seung-ho  South Korean  01-09-2003   21     180            NaN   \n",
      "15     Dong-jin Kim  South Korean  30-07-2003   21     181            NaN   \n",
      "16    Jung Jae-Sang  South Korean  25-05-2004   20     187            NaN   \n",
      "17   Seong-Jin Kang  South Korean  26-03-2003   21     180            NaN   \n",
      "18      Se-jin Park  South Korean  19-03-2004   20     171            NaN   \n",
      "19    Park Yong-hui  South Korean  29-03-2002   22     180            NaN   \n",
      "20      Shin Min-Ha  South Korean  15-09-2005   19     187            NaN   \n",
      "21     Min-seo Moon  South Korean  18-02-2004   20     182            NaN   \n",
      "22      Han Jong-Mu  South Korean  02-05-2003   21     179            NaN   \n",
      "\n",
      "   Position            Current Team  Shirt Number Market Value K€  ...  \\\n",
      "0         M                Daegu FC             2             620  ...   \n",
      "1         D          Incheon United             2             190  ...   \n",
      "2         F              Gwangju FC            11             335  ...   \n",
      "3         M          Incheon United            14             320  ...   \n",
      "4         M              Gangwon FC            47            1300  ...   \n",
      "5         D              Gwangju FC            15             290  ...   \n",
      "6         M         Pohang Steelers            37             335  ...   \n",
      "7         M                Ulsan HD            30             220  ...   \n",
      "8         M      Gimcheon Sangmu FC            29             205  ...   \n",
      "9         D                Suwon FC            26             155  ...   \n",
      "10        D         Pohang Steelers            26             675  ...   \n",
      "11        D                Daegu FC            40         Unknown  ...   \n",
      "12        M  Jeonbuk Hyundai Motors            77             320  ...   \n",
      "13        M  Jeonbuk Hyundai Motors            33             675  ...   \n",
      "14        F          Incheon United            77             285  ...   \n",
      "15        M         Pohang Steelers            88             180  ...   \n",
      "16        F                Daegu FC            18             155  ...   \n",
      "17        M                FC Seoul            11             380  ...   \n",
      "18        M                Daegu FC            14         Unknown  ...   \n",
      "19        F                Daegu FC            30             165  ...   \n",
      "20        D              Gangwon FC            30             160  ...   \n",
      "21        M              Gwangju FC            88             185  ...   \n",
      "22        M             Jeju United            24             270  ...   \n",
      "\n",
      "    Aerial Duels Won per Game  Aerial Duels Won per Game%  \\\n",
      "0                         0.8                          44   \n",
      "1                         3.2                          66   \n",
      "2                         1.3                          50   \n",
      "3                         0.2                          33   \n",
      "4                         0.3                          26   \n",
      "5                         2.5                          64   \n",
      "6                         0.3                          39   \n",
      "7                         0.5                          32   \n",
      "8                         0.2                          44   \n",
      "9                         0.4                          30   \n",
      "10                        0.7                          50   \n",
      "11                        1.5                          62   \n",
      "12                        0.2                          17   \n",
      "13                        0.4                          43   \n",
      "14                        0.8                          45   \n",
      "15                        0.5                          47   \n",
      "16                        1.5                          37   \n",
      "17                        0.2                          17   \n",
      "18                        0.1                          38   \n",
      "19                        0.2                          33   \n",
      "20                        0.4                          60   \n",
      "21                        0.4                          45   \n",
      "22                        0.3                          35   \n",
      "\n",
      "    Possession Lost per Game  Fouls Committed per Game  Was Fouled per Game  \\\n",
      "0                       12.6                       0.8                  0.5   \n",
      "1                        8.8                       0.9                  0.3   \n",
      "2                       11.1                       0.8                  1.8   \n",
      "3                       12.5                       0.3                  0.8   \n",
      "4                       11.6                       0.8                  0.8   \n",
      "5                        7.4                       0.9                  0.3   \n",
      "6                        8.8                       1.0                  0.9   \n",
      "7                        4.5                       1.0                  0.9   \n",
      "8                        3.7                       0.4                  0.6   \n",
      "9                        7.5                       0.6                  0.3   \n",
      "10                      12.5                       0.9                  0.8   \n",
      "11                       5.1                       1.2                  0.2   \n",
      "12                       6.4                       0.6                  0.7   \n",
      "13                       8.6                       1.3                  0.7   \n",
      "14                       7.7                       0.7                  0.9   \n",
      "15                       4.7                       0.8                  0.2   \n",
      "16                       8.9                       0.6                  0.4   \n",
      "17                       7.1                       0.3                  0.4   \n",
      "18                       8.1                       0.7                  0.5   \n",
      "19                       8.7                       0.9                  0.4   \n",
      "20                       0.8                       0.1                  0.0   \n",
      "21                       5.7                       0.7                  0.2   \n",
      "22                       5.0                       0.5                  0.4   \n",
      "\n",
      "    Offsides per Game Yellow Cards  Yellow-Red Cards  Red Cards  Clean Sheets  \n",
      "0                 0.0            2                 0          0           NaN  \n",
      "1                 0.0            2                 0          0           2.0  \n",
      "2                 0.1            2                 0          0           NaN  \n",
      "3                 0.1            1                 0          0           NaN  \n",
      "4                 0.2            1                 0          0           NaN  \n",
      "5                 0.0            3                 0          0           NaN  \n",
      "6                 0.1            2                 0          0           NaN  \n",
      "7                 0.1            3                 0          0           NaN  \n",
      "8                 0.1            1                 0          0           NaN  \n",
      "9                 0.0            3                 0          0           2.0  \n",
      "10                0.1            4                 0          0           2.0  \n",
      "11                0.0            5                 0          0           3.0  \n",
      "12                0.0            1                 0          0           NaN  \n",
      "13                0.3            4                 1          1           NaN  \n",
      "14                0.0            1                 0          0           NaN  \n",
      "15                0.0            3                 0          0           NaN  \n",
      "16                0.4            1                 0          0           NaN  \n",
      "17                0.0            1                 0          0           NaN  \n",
      "18                0.0            0                 0          0           NaN  \n",
      "19                0.3            2                 0          0           NaN  \n",
      "20                0.0            1                 0          0           0.0  \n",
      "21                0.0            0                 0          0           NaN  \n",
      "22                0.0            2                 0          0           NaN  \n",
      "\n",
      "[23 rows x 75 columns]\n"
     ]
    }
   ],
   "source": [
    "print(df)"
   ]
  },
  {
   "cell_type": "code",
   "execution_count": 5,
   "metadata": {},
   "outputs": [],
   "source": [
    "# Save to Excel file\n",
    "df.to_excel('U23-KL1.xlsx', index=False)"
   ]
  }
 ],
 "metadata": {
  "kernelspec": {
   "display_name": "NBA_Project",
   "language": "python",
   "name": "python3"
  },
  "language_info": {
   "codemirror_mode": {
    "name": "ipython",
    "version": 3
   },
   "file_extension": ".py",
   "mimetype": "text/x-python",
   "name": "python",
   "nbconvert_exporter": "python",
   "pygments_lexer": "ipython3",
   "version": "3.8.19"
  }
 },
 "nbformat": 4,
 "nbformat_minor": 2
}
